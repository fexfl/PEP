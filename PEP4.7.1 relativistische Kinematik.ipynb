{
 "cells": [
  {
   "cell_type": "code",
   "execution_count": 1,
   "id": "ce1a778f",
   "metadata": {},
   "outputs": [],
   "source": [
    "import numpy as np\n",
    "import scipy.constants as sc"
   ]
  },
  {
   "cell_type": "code",
   "execution_count": 30,
   "id": "7811ed60",
   "metadata": {},
   "outputs": [],
   "source": [
    "E_cms = 14*10**(12) #eV\n",
    "m_p = 2*938*10**(6) #eV / c^2"
   ]
  },
  {
   "cell_type": "code",
   "execution_count": 31,
   "id": "c22f7520",
   "metadata": {},
   "outputs": [],
   "source": [
    "def beta(Erel, m_p):\n",
    "    return np.sqrt(1 - m_p**2/Erel**2)"
   ]
  },
  {
   "cell_type": "code",
   "execution_count": 32,
   "id": "370c3038",
   "metadata": {},
   "outputs": [
    {
     "name": "stdout",
     "output_type": "stream",
     "text": [
      "0.999999991022\n"
     ]
    }
   ],
   "source": [
    "bt = beta(E_cms, m_p)\n",
    "print(bt)"
   ]
  },
  {
   "cell_type": "code",
   "execution_count": null,
   "id": "135762e3",
   "metadata": {},
   "outputs": [],
   "source": []
  },
  {
   "cell_type": "code",
   "execution_count": null,
   "id": "f0733191",
   "metadata": {},
   "outputs": [],
   "source": []
  },
  {
   "cell_type": "code",
   "execution_count": null,
   "id": "48f9210f",
   "metadata": {},
   "outputs": [],
   "source": []
  }
 ],
 "metadata": {
  "kernelspec": {
   "display_name": "Python 3",
   "language": "python",
   "name": "python3"
  },
  "language_info": {
   "codemirror_mode": {
    "name": "ipython",
    "version": 3
   },
   "file_extension": ".py",
   "mimetype": "text/x-python",
   "name": "python",
   "nbconvert_exporter": "python",
   "pygments_lexer": "ipython3",
   "version": "3.8.8"
  }
 },
 "nbformat": 4,
 "nbformat_minor": 5
}
