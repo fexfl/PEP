{
 "cells": [
  {
   "cell_type": "code",
   "execution_count": 16,
   "metadata": {},
   "outputs": [],
   "source": [
    "import numpy as np\n",
    "import scipy.constants as sc\n",
    "import matplotlib as plt"
   ]
  },
  {
   "cell_type": "code",
   "execution_count": 17,
   "metadata": {},
   "outputs": [],
   "source": [
    "Ry = -13.6 #eV\n",
    "Z_eff = 74"
   ]
  },
  {
   "cell_type": "code",
   "execution_count": 18,
   "metadata": {},
   "outputs": [],
   "source": [
    "def mosley(n1, n2):\n",
    "    return Ry * (Z_eff)**2 * ((1/(n1)**2) - (1/(n2)**2))"
   ]
  },
  {
   "cell_type": "code",
   "execution_count": 29,
   "metadata": {},
   "outputs": [
    {
     "name": "stdout",
     "output_type": "stream",
     "text": [
      "[55855.2        66198.75555556  8333.          9962.\n",
      " 11286.          3620.24444444  5295.90044444  6206.13333333]\n"
     ]
    }
   ],
   "source": [
    "k_alpha = mosley(2,1)\n",
    "k_beta = mosley(3,1)\n",
    "l_alpha = 8.333 * 1000\n",
    "l_beta = 9.962 * 1000\n",
    "l_gamma = 11.286 * 1000\n",
    "m_alpha = mosley(4,3)\n",
    "m_beta = mosley(5,3)\n",
    "m_gamma = mosley(6,3)\n",
    "k_lines = np.array([k_alpha, k_beta, l_alpha, l_beta, l_gamma, m_alpha, m_beta, m_gamma])\n",
    "print(k_lines)\n",
    "\n",
    "energy = np.linspace(100000, 0, 50000)"
   ]
  },
  {
   "cell_type": "code",
   "execution_count": 30,
   "metadata": {},
   "outputs": [
    {
     "name": "stdout",
     "output_type": "stream",
     "text": [
      "[4.5050257  5.33928972 0.67210178 0.80348949 0.91027729 0.29199241\n",
      " 0.42714318 0.50055841]\n"
     ]
    }
   ],
   "source": [
    "k_lines_lambda = 1 /(sc.h * sc.c / (k_lines*sc.e))\n",
    "print(k_lines_lambda * 10**-10)"
   ]
  },
  {
   "cell_type": "code",
   "execution_count": null,
   "metadata": {},
   "outputs": [],
   "source": []
  }
 ],
 "metadata": {
  "kernelspec": {
   "display_name": "Python 3",
   "language": "python",
   "name": "python3"
  },
  "language_info": {
   "codemirror_mode": {
    "name": "ipython",
    "version": 3
   },
   "file_extension": ".py",
   "mimetype": "text/x-python",
   "name": "python",
   "nbconvert_exporter": "python",
   "pygments_lexer": "ipython3",
   "version": "3.8.5"
  }
 },
 "nbformat": 4,
 "nbformat_minor": 5
}
