{
 "cells": [
  {
   "cell_type": "code",
   "execution_count": 1,
   "metadata": {},
   "outputs": [],
   "source": [
    "import numpy as np"
   ]
  },
  {
   "cell_type": "code",
   "execution_count": 13,
   "metadata": {},
   "outputs": [
    {
     "name": "stdout",
     "output_type": "stream",
     "text": [
      "4.55469185075e-31\n"
     ]
    }
   ],
   "source": [
    "m_e = 9.1093837015*10**(-31) #kg\n",
    "e = 1.602176634e-19 #C\n",
    "h = 6.62607015e-34 #Js\n",
    "h_bar = h / (2*np.pi)\n",
    "e_0 = 8.8541878128e-12 #As/Vm\n",
    "\n",
    "m_red_pos = m_e**2 / (2*m_e)\n",
    "print(m_red_pos)"
   ]
  },
  {
   "cell_type": "code",
   "execution_count": 14,
   "metadata": {},
   "outputs": [
    {
     "name": "stdout",
     "output_type": "stream",
     "text": [
      "-1.0899361805431093e-18\n",
      "-6.802846561442921\n"
     ]
    }
   ],
   "source": [
    "r_y_pos = -(m_red_pos * e**4)/(8* h**2 * e_0**2)\n",
    "print(r_y_pos)\n",
    "print(r_y_pos / e)"
   ]
  },
  {
   "cell_type": "code",
   "execution_count": 23,
   "metadata": {},
   "outputs": [
    {
     "name": "stdout",
     "output_type": "stream",
     "text": [
      "1.058354421812171e-10\n"
     ]
    }
   ],
   "source": [
    "a_b_pos = (4*np.pi*e_0* h_bar**2)/(m_red_pos * e**2)\n",
    "print(a_b_pos)"
   ]
  },
  {
   "cell_type": "code",
   "execution_count": 24,
   "metadata": {},
   "outputs": [
    {
     "name": "stdout",
     "output_type": "stream",
     "text": [
      "1.884609565216151e-28\n"
     ]
    }
   ],
   "source": [
    "m_mu = 207 * m_e\n",
    "m_pb = 3.440637e-25 #kg\n",
    "\n",
    "m_red_s = m_mu * m_pb /(m_mu + m_pb)\n",
    "print(m_red_s)"
   ]
  },
  {
   "cell_type": "code",
   "execution_count": 25,
   "metadata": {},
   "outputs": [
    {
     "name": "stdout",
     "output_type": "stream",
     "text": [
      "-4.509864154670444e-16\n",
      "-2814.8358045960895\n"
     ]
    }
   ],
   "source": [
    "r_y_s = -(m_red_s * e**4)/(8* h**2 * e_0**2)\n",
    "print(r_y_s)\n",
    "print(r_y_s / e)"
   ]
  },
  {
   "cell_type": "code",
   "execution_count": 26,
   "metadata": {},
   "outputs": [
    {
     "name": "stdout",
     "output_type": "stream",
     "text": [
      "-18.926955950104105\n"
     ]
    }
   ],
   "source": [
    "print(r_y_s / e * (82)**2 /10**(6))"
   ]
  },
  {
   "cell_type": "code",
   "execution_count": 27,
   "metadata": {},
   "outputs": [
    {
     "name": "stdout",
     "output_type": "stream",
     "text": [
      "2.5578126892719287e-13\n"
     ]
    }
   ],
   "source": [
    "a_b_s = (4*np.pi*e_0* h_bar**2)/(m_red_s * e**2)\n",
    "print(a_b_s)"
   ]
  },
  {
   "cell_type": "code",
   "execution_count": null,
   "metadata": {},
   "outputs": [],
   "source": []
  }
 ],
 "metadata": {
  "kernelspec": {
   "display_name": "Python 3",
   "language": "python",
   "name": "python3"
  },
  "language_info": {
   "codemirror_mode": {
    "name": "ipython",
    "version": 3
   },
   "file_extension": ".py",
   "mimetype": "text/x-python",
   "name": "python",
   "nbconvert_exporter": "python",
   "pygments_lexer": "ipython3",
   "version": "3.8.5"
  }
 },
 "nbformat": 4,
 "nbformat_minor": 4
}
