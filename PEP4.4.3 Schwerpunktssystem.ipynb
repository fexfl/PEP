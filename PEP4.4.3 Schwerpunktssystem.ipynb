{
 "cells": [
  {
   "cell_type": "code",
   "execution_count": 1,
   "id": "f6abe96c",
   "metadata": {},
   "outputs": [],
   "source": [
    "import numpy as np\n",
    "import scipy.constants as sc"
   ]
  },
  {
   "cell_type": "code",
   "execution_count": 2,
   "id": "57cf6e94",
   "metadata": {},
   "outputs": [],
   "source": [
    "E_e = 9000 #MeV\n",
    "E_pos = 3100 #MeV\n",
    "\n",
    "m = 0.511 #MeV / c^2"
   ]
  },
  {
   "cell_type": "code",
   "execution_count": 17,
   "id": "1b941969",
   "metadata": {},
   "outputs": [],
   "source": [
    "def impulssq(E, m):\n",
    "    return E**2 - m**2"
   ]
  },
  {
   "cell_type": "code",
   "execution_count": 18,
   "id": "5c8346e9",
   "metadata": {},
   "outputs": [
    {
     "name": "stdout",
     "output_type": "stream",
     "text": [
      "8999.999985493278\n",
      "3099.9999578837096\n"
     ]
    }
   ],
   "source": [
    "p_e = np.sqrt(impulssq(E_e, m))\n",
    "p_pos = np.sqrt(impulssq(E_pos, m))\n",
    "print(p_e)\n",
    "print(p_pos)"
   ]
  },
  {
   "cell_type": "code",
   "execution_count": 14,
   "id": "97f6a14d",
   "metadata": {},
   "outputs": [],
   "source": [
    "def slol(p1, p2, m):\n",
    "    s = 2*m**2 + 2*np.sqrt((p1**2 + m**2)*(p2**2 + m**2)) + 2*p1*p2\n",
    "    return s"
   ]
  },
  {
   "cell_type": "code",
   "execution_count": 15,
   "id": "90d0d5f5",
   "metadata": {},
   "outputs": [],
   "source": [
    "sxd = slol(p_e, p_pos, m)"
   ]
  },
  {
   "cell_type": "code",
   "execution_count": 27,
   "id": "e2bf394f",
   "metadata": {},
   "outputs": [
    {
     "name": "stdout",
     "output_type": "stream",
     "text": [
      "10.564090101575577\n"
     ]
    }
   ],
   "source": [
    "E_cms = np.sqrt(sxd)\n",
    "print(E_cms * 10**-3)"
   ]
  },
  {
   "cell_type": "code",
   "execution_count": 29,
   "id": "5a270bb7",
   "metadata": {},
   "outputs": [
    {
     "name": "stdout",
     "output_type": "stream",
     "text": [
      "10.564090101575577\n"
     ]
    }
   ],
   "source": [
    "def slol2(E1, E2, m):\n",
    "    s = 2*E1*E2 + 2*m**2 + 2*np.sqrt(E1**2 * E2**2 + m**4 - E1**2 * m**2 - E2**2 * m**2)\n",
    "    return s\n",
    "\n",
    "sxd2 = slol2(E_e, E_pos, m)\n",
    "E_cms2 = np.sqrt(sxd2)\n",
    "print(E_cms2 * 10**(-3))"
   ]
  },
  {
   "cell_type": "code",
   "execution_count": null,
   "id": "62e69c17",
   "metadata": {},
   "outputs": [],
   "source": []
  }
 ],
 "metadata": {
  "kernelspec": {
   "display_name": "Python 3",
   "language": "python",
   "name": "python3"
  },
  "language_info": {
   "codemirror_mode": {
    "name": "ipython",
    "version": 3
   },
   "file_extension": ".py",
   "mimetype": "text/x-python",
   "name": "python",
   "nbconvert_exporter": "python",
   "pygments_lexer": "ipython3",
   "version": "3.8.8"
  }
 },
 "nbformat": 4,
 "nbformat_minor": 5
}
