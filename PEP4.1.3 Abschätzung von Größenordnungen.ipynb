{
 "cells": [
  {
   "cell_type": "code",
   "execution_count": 2,
   "metadata": {},
   "outputs": [],
   "source": [
    "import numpy as np"
   ]
  },
  {
   "cell_type": "code",
   "execution_count": 3,
   "metadata": {},
   "outputs": [
    {
     "name": "stdout",
     "output_type": "stream",
     "text": [
      "0.03789256868696788\n"
     ]
    }
   ],
   "source": [
    "k = 1.380649e-23\n",
    "T = 293.15\n",
    "E_kin = (3/2)*k*T\n",
    "e = 1.602176634e-19\n",
    "print(E_kin / e)"
   ]
  },
  {
   "cell_type": "code",
   "execution_count": 8,
   "metadata": {},
   "outputs": [
    {
     "name": "stdout",
     "output_type": "stream",
     "text": [
      "0.00952495529038715\n"
     ]
    }
   ],
   "source": [
    "m_e = 9.1093837015e-31\n",
    "delx_e = 10e-10\n",
    "hbar = 6.62607015e-34 / (2*np.pi)\n",
    "def energy(m,delx):\n",
    "    return hbar**2 / (8 * m * (delx)**2)\n",
    "\n",
    "E_e = energy(m_e, delx_e)\n",
    "print(E_e / e)"
   ]
  },
  {
   "cell_type": "code",
   "execution_count": 9,
   "metadata": {},
   "outputs": [
    {
     "name": "stdout",
     "output_type": "stream",
     "text": [
      "51874.52780025262\n"
     ]
    }
   ],
   "source": [
    "m_p = 1.67262192369e-27\n",
    "delx_p = 10e-15\n",
    "\n",
    "E_p = energy(m_p,delx_p)\n",
    "print(E_p / e)"
   ]
  },
  {
   "cell_type": "code",
   "execution_count": 10,
   "metadata": {},
   "outputs": [
    {
     "name": "stdout",
     "output_type": "stream",
     "text": [
      "9866349.022965126\n"
     ]
    }
   ],
   "source": [
    "delx_q = delx_p\n",
    "c = 299792458\n",
    "E_q = hbar * c / (2 * delx_q)\n",
    "print(E_q / e)"
   ]
  },
  {
   "cell_type": "code",
   "execution_count": null,
   "metadata": {},
   "outputs": [],
   "source": []
  }
 ],
 "metadata": {
  "kernelspec": {
   "display_name": "Python 3",
   "language": "python",
   "name": "python3"
  },
  "language_info": {
   "codemirror_mode": {
    "name": "ipython",
    "version": 3
   },
   "file_extension": ".py",
   "mimetype": "text/x-python",
   "name": "python",
   "nbconvert_exporter": "python",
   "pygments_lexer": "ipython3",
   "version": "3.8.5"
  }
 },
 "nbformat": 4,
 "nbformat_minor": 4
}
